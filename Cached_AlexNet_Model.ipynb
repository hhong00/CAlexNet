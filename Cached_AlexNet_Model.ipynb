{
  "cells": [
    {
      "cell_type": "markdown",
      "metadata": {
        "id": "NF2IR5u8-0xo"
      },
      "source": [
        "# Implementing an Image-Similarity Cache on AlexNet\n",
        "\n",
        "*Note to COS316 Graders: Our contribution to the codebase primarily starts at the point \"Creating a Cache of Trained Images\" in the outline.*\n",
        "\n",
        "In this notebook we will be implementing a modified version of [AlexNet](https://papers.nips.cc/paper/4824-imagenet-classification-with-deep-convolutional-neural-networks.pdf), a neural network model that uses convolutional neural network (CNN) layers and was designed for the [ImageNet challenge](http://www.image-net.org/challenges/LSVRC/). AlexNet is famous for winning the ImageNet challenge in 2012 by beating the second place competitor by over 10% accuracy and kickstarting the interest in deep learning for computer vision.\n",
        "\n",
        "The image below shows the architecture of AlexNet.\n",
        "\n",
        "![](https://github.com/bentrevett/pytorch-image-classification/blob/master/assets/alexnet.png?raw=1)\n",
        "\n",
        "Confusingly, there are two \"paths\" of processing through the network. This is due to the original AlexNet model being implemented on two GPUs in parallel. Almost all implementations of AlexNet are now on a single GPU and our implementation is too.\n",
        "\n",
        "We are now moving on from the MNIST dataset and from now on we will be using the [CIFAR10](https://www.cs.toronto.edu/~kriz/cifar.html) dataset. CIFAR10 consists of 60000 32x32 colour images in 10 classes, with 6000 images per class. The classes are: airplane, automobile, bird, cat, deer, dog, frog, horse, ship, truck.\n",
        "\n",
        "![](https://github.com/bentrevett/pytorch-image-classification/blob/master/assets/cifar10.png?raw=1)\n",
        "\n",
        "We will also show how to initialize the weights of our neural network and how to find a suitable learning rate using a modified version of the [learning rate finder](https://arxiv.org/abs/1506.01186).\n",
        "\n",
        "Like the previous notebooks we'll implement our model, measure its performance on the dataset, and then have a short look into seeing what the model has learned.\n",
        "\n",
        "Most of this notebook will be similar to the previous ones thus we will skim over code that has been shown before. We can look at the previous notebook for a refresher if needed.\n",
        "\n",
        "### Data Processing\n",
        "\n",
        "As always, we'll import the modules we need. A new import is the `_LRScheduler` which we will use to implement our learning rate finder."
      ]
    },
    {
      "cell_type": "code",
      "source": [
        "!pip install pytorch-msssim\n",
        "# If not installed"
      ],
      "metadata": {
        "colab": {
          "base_uri": "https://localhost:8080/"
        },
        "id": "36vEfcx4XD7I",
        "outputId": "f0702e67-9b29-4afa-cdd2-f3db3e10b852"
      },
      "execution_count": null,
      "outputs": [
        {
          "output_type": "stream",
          "name": "stdout",
          "text": [
            "Collecting pytorch-msssim\n",
            "  Downloading pytorch_msssim-1.0.0-py3-none-any.whl (7.7 kB)\n",
            "Requirement already satisfied: torch in /usr/local/lib/python3.10/dist-packages (from pytorch-msssim) (2.1.0+cu121)\n",
            "Requirement already satisfied: filelock in /usr/local/lib/python3.10/dist-packages (from torch->pytorch-msssim) (3.13.1)\n",
            "Requirement already satisfied: typing-extensions in /usr/local/lib/python3.10/dist-packages (from torch->pytorch-msssim) (4.5.0)\n",
            "Requirement already satisfied: sympy in /usr/local/lib/python3.10/dist-packages (from torch->pytorch-msssim) (1.12)\n",
            "Requirement already satisfied: networkx in /usr/local/lib/python3.10/dist-packages (from torch->pytorch-msssim) (3.2.1)\n",
            "Requirement already satisfied: jinja2 in /usr/local/lib/python3.10/dist-packages (from torch->pytorch-msssim) (3.1.2)\n",
            "Requirement already satisfied: fsspec in /usr/local/lib/python3.10/dist-packages (from torch->pytorch-msssim) (2023.6.0)\n",
            "Requirement already satisfied: triton==2.1.0 in /usr/local/lib/python3.10/dist-packages (from torch->pytorch-msssim) (2.1.0)\n",
            "Requirement already satisfied: MarkupSafe>=2.0 in /usr/local/lib/python3.10/dist-packages (from jinja2->torch->pytorch-msssim) (2.1.3)\n",
            "Requirement already satisfied: mpmath>=0.19 in /usr/local/lib/python3.10/dist-packages (from sympy->torch->pytorch-msssim) (1.3.0)\n",
            "Installing collected packages: pytorch-msssim\n",
            "Successfully installed pytorch-msssim-1.0.0\n"
          ]
        }
      ]
    },
    {
      "cell_type": "code",
      "execution_count": null,
      "metadata": {
        "id": "XYaxtUEgIafG"
      },
      "outputs": [],
      "source": [
        "import torch\n",
        "import torch.nn as nn\n",
        "import torch.nn.functional as F\n",
        "import torch.optim as optim\n",
        "from torch.optim.lr_scheduler import _LRScheduler\n",
        "import torch.utils.data as data\n",
        "\n",
        "import torchvision.transforms as transforms\n",
        "import torchvision.datasets as datasets\n",
        "from torchvision import models\n",
        "\n",
        "from sklearn import decomposition\n",
        "from sklearn import manifold\n",
        "from sklearn.metrics import confusion_matrix\n",
        "from sklearn.metrics import ConfusionMatrixDisplay\n",
        "from tqdm.notebook import tqdm, trange\n",
        "import matplotlib.pyplot as plt\n",
        "import numpy as np\n",
        "\n",
        "import copy\n",
        "import random\n",
        "import time"
      ]
    },
    {
      "cell_type": "markdown",
      "metadata": {
        "id": "1FcvzjWq-0xs"
      },
      "source": [
        "We set the random seed so all of our experiments can be reproduced."
      ]
    },
    {
      "cell_type": "code",
      "execution_count": null,
      "metadata": {
        "id": "QfZxvR09IafJ"
      },
      "outputs": [],
      "source": [
        "SEED = 1234\n",
        "\n",
        "random.seed(SEED)\n",
        "np.random.seed(SEED)\n",
        "torch.manual_seed(SEED)\n",
        "torch.cuda.manual_seed(SEED)\n",
        "torch.backends.cudnn.deterministic = True"
      ]
    },
    {
      "cell_type": "markdown",
      "metadata": {
        "id": "uecfsf1f-0xw"
      },
      "source": [
        "We calculate the mean and standard deviation of our data so we can normalize it.\n",
        "\n",
        "Our dataset is made up of color images but three color channels (red, green and blue), compared to MNIST's black and white images with a single color channel. To normalize our data we need to calculate the means and standard deviations for each of the color channels independently.\n",
        "\n",
        "To do this we pass a tuple containing the axes we want to take the means and standard deviations over to the `mean` and `std` functions and we receive a list of means and standard deviations for each of the three color channels."
      ]
    },
    {
      "cell_type": "code",
      "execution_count": null,
      "metadata": {
        "id": "IprUgI0fIafN"
      },
      "outputs": [],
      "source": [
        "ROOT = '.data'\n",
        "\n",
        "train_data = datasets.CIFAR10(root=ROOT,\n",
        "                              train=True,\n",
        "                              download=True)\n",
        "\n",
        "means = train_data.data.mean(axis=(0, 1, 2)) / 255\n",
        "stds = train_data.data.std(axis=(0, 1, 2)) / 255\n",
        "\n",
        "print(f'Calculated means: {means}')\n",
        "print(f'Calculated stds: {stds}')"
      ]
    },
    {
      "cell_type": "markdown",
      "metadata": {
        "id": "ajVaWn_7-0x0"
      },
      "source": [
        "Next up is defining the transforms for data augmentation.\n",
        "\n",
        "The images in the CIFAR10 dataset are significantly more complex than the MNIST dataset. They are larger, have three times the amount of pixels and are more cluttered. This makes them harder to learn and consequently means we should use less augmentation.\n",
        "\n",
        "A new transform we use is `RandomHorizontalFlip`. This, with a probability of `0.5` as specified, flips the image horizontally. So an image of a horse facing to the right will be flipped so it will face to the left. We couldn't do this in the MNIST dataset as we are not expecting our test set to contain any flipped digits, however natural images, such as those in the CIFAR10 dataset, can potentially be flipped as they still make visual sense.\n",
        "\n",
        "As our `means` and `stds` are now already in lists we do not need to enclose them in lists as we did for the single channel images in the MNIST dataset."
      ]
    },
    {
      "cell_type": "code",
      "execution_count": null,
      "metadata": {
        "id": "tfzKdrpfIafR"
      },
      "outputs": [],
      "source": [
        "train_transforms = transforms.Compose([\n",
        "                           transforms.RandomRotation(5),\n",
        "                           transforms.RandomHorizontalFlip(0.5),\n",
        "                           transforms.RandomCrop(32, padding=2),\n",
        "                           transforms.ToTensor(),\n",
        "                           transforms.Normalize(mean=means,\n",
        "                                                std=stds)\n",
        "                       ])\n",
        "\n",
        "test_transforms = transforms.Compose([\n",
        "                           transforms.ToTensor(),\n",
        "                           transforms.Normalize(mean=means,\n",
        "                                                std=stds)\n",
        "                       ])"
      ]
    },
    {
      "cell_type": "code",
      "execution_count": null,
      "metadata": {
        "id": "vqxev2wBIafU"
      },
      "outputs": [],
      "source": [
        "train_data = datasets.CIFAR10(ROOT,\n",
        "                              train=True,\n",
        "                              download=True,\n",
        "                              transform=train_transforms)\n",
        "\n",
        "test_data = datasets.CIFAR10(ROOT,\n",
        "                             train=False,\n",
        "                             download=True,\n",
        "                             transform=test_transforms)"
      ]
    },
    {
      "cell_type": "markdown",
      "metadata": {
        "id": "FjI3JE5N-0x6"
      },
      "source": [
        "**bold text**...create a validation set from our training set..."
      ]
    },
    {
      "cell_type": "code",
      "execution_count": null,
      "metadata": {
        "id": "NyMEMaDUIafX"
      },
      "outputs": [],
      "source": [
        "VALID_RATIO = 0.9\n",
        "\n",
        "n_train_examples = int(len(train_data) * VALID_RATIO)\n",
        "n_valid_examples = len(train_data) - n_train_examples\n",
        "\n",
        "train_data, valid_data = data.random_split(train_data,\n",
        "                                           [n_train_examples, n_valid_examples])"
      ]
    },
    {
      "cell_type": "markdown",
      "metadata": {
        "id": "8IUMURwF-0x-"
      },
      "source": [
        "...and ensure our validation set uses\n",
        "the test transforms."
      ]
    },
    {
      "cell_type": "code",
      "execution_count": null,
      "metadata": {
        "id": "sKvCJ2_EQUgD"
      },
      "outputs": [],
      "source": [
        "valid_data = copy.deepcopy(valid_data)\n",
        "valid_data.dataset.transform = test_transforms"
      ]
    },
    {
      "cell_type": "markdown",
      "metadata": {
        "id": "yjflicvF-0yB"
      },
      "source": [
        "We print out the number of examples in each set of data to ensure everything has gone OK so far."
      ]
    },
    {
      "cell_type": "code",
      "execution_count": null,
      "metadata": {
        "id": "enX-chu-Iafc"
      },
      "outputs": [],
      "source": [
        "print(f'Number of training examples: {len(train_data)}')\n",
        "print(f'Number of validation examples: {len(valid_data)}')\n",
        "print(f'Number of testing examples: {len(test_data)}')"
      ]
    },
    {
      "cell_type": "markdown",
      "metadata": {
        "id": "eQq6BaNr-0yE"
      },
      "source": [
        "Now, we'll create a function to plot some images in our dataset to see what they actually look like.\n",
        "\n",
        "Note that by default PyTorch handles images that are arranged `[channel, height, width]`, but `matplotlib` expects images to be `[height, width, channel]`, hence we need to `permute` our images before plotting them.\n",
        "\n",
        "Ignore the `normalize` argument for now, we'll explain it shortly."
      ]
    },
    {
      "cell_type": "code",
      "execution_count": null,
      "metadata": {
        "id": "KVwZrsXpcUSB"
      },
      "outputs": [],
      "source": [
        "def plot_images(images, labels, classes, normalize=False):\n",
        "\n",
        "    n_images = len(images)\n",
        "\n",
        "    rows = int(np.sqrt(n_images))\n",
        "    cols = int(np.sqrt(n_images))\n",
        "\n",
        "    fig = plt.figure(figsize=(10, 10))\n",
        "\n",
        "    for i in range(rows*cols):\n",
        "\n",
        "        ax = fig.add_subplot(rows, cols, i+1)\n",
        "\n",
        "        image = images[i]\n",
        "\n",
        "        if normalize:\n",
        "            image_min = image.min()\n",
        "            image_max = image.max()\n",
        "            image.clamp_(min=image_min, max=image_max)\n",
        "            image.add_(-image_min).div_(image_max - image_min + 1e-5)\n",
        "\n",
        "        ax.imshow(image.permute(1, 2, 0).cpu().numpy())\n",
        "        ax.set_title(classes[labels[i]])\n",
        "        ax.axis('off')"
      ]
    },
    {
      "cell_type": "markdown",
      "metadata": {
        "id": "tXe4GSO7-0yH"
      },
      "source": [
        "Then, we'll actually plot the images.\n",
        "\n",
        "We get both the images and the labels from the training set and convert the labels, which are originally stored as integers, into their human readable class by using the data's `classes` dictionary.\n",
        "\n",
        "When we plot them we see lots of warnings. This is because `matplotlib` is expecting the values of every pixel to be between $[0, 1]$, however our normalization will cause them to be outside this range. By default `matplotlib` will then clip these values into the $[0,1]$ range. This clipping causes all the images to look a bit weird - all the colors are oversaturated."
      ]
    },
    {
      "cell_type": "code",
      "execution_count": null,
      "metadata": {
        "id": "A6piM5oUcZIY"
      },
      "outputs": [],
      "source": [
        "N_IMAGES = 25\n",
        "\n",
        "images, labels = zip(*[(image, label) for image, label in\n",
        "                       [train_data[i] for i in range(N_IMAGES)]])\n",
        "\n",
        "classes = test_data.classes\n",
        "\n",
        "plot_images(images, labels, classes, normalize=True)"
      ]
    },
    {
      "cell_type": "markdown",
      "metadata": {
        "id": "UoCEaY9C-0yK"
      },
      "source": [
        "A solution to this is to *renormalize* the images so each pixel is between $[0,1]$. This is done by clipping the pixel values between the maximum and minimum within an image and then scaling each pixel between $[0,1]$ using these maximum and minimums.\n",
        "\n",
        "As we can see the images below look a lot more like we were expecting, along with the rotations and cropping."
      ]
    },
    {
      "cell_type": "code",
      "execution_count": null,
      "metadata": {
        "id": "gVDM7PTCswBx"
      },
      "outputs": [],
      "source": [
        "def normalize_image(image):\n",
        "    image_min = image.min()\n",
        "    image_max = image.max()\n",
        "    image.clamp_(min=image_min, max=image_max)\n",
        "    image.add_(-image_min).div_(image_max - image_min + 1e-5)\n",
        "    return image"
      ]
    },
    {
      "cell_type": "markdown",
      "metadata": {
        "id": "SMrfzrD0-0yQ"
      },
      "source": [
        "As before, we'll check what images look like with Sobel filters applied to them."
      ]
    },
    {
      "cell_type": "code",
      "execution_count": null,
      "metadata": {
        "id": "apk0CzvWoZkw"
      },
      "outputs": [],
      "source": [
        "def plot_filter(images, filter, normalize=True):\n",
        "\n",
        "    images = torch.cat([i.unsqueeze(0) for i in images], dim=0).cpu()\n",
        "    filter = torch.FloatTensor(filter).unsqueeze(0).unsqueeze(0).cpu()\n",
        "    filter = filter.repeat(3, 3, 1, 1)\n",
        "\n",
        "    n_images = images.shape[0]\n",
        "\n",
        "    filtered_images = F.conv2d(images, filter)\n",
        "\n",
        "    images = images.permute(0, 2, 3, 1)\n",
        "    filtered_images = filtered_images.permute(0, 2, 3, 1)\n",
        "\n",
        "    fig = plt.figure(figsize=(25, 5))\n",
        "\n",
        "    for i in range(n_images):\n",
        "\n",
        "        image = images[i]\n",
        "\n",
        "        if normalize:\n",
        "            image = normalize_image(image)\n",
        "\n",
        "        ax = fig.add_subplot(2, n_images, i+1)\n",
        "        ax.imshow(image)\n",
        "        ax.set_title('Original')\n",
        "        ax.axis('off')\n",
        "\n",
        "        image = filtered_images[i]\n",
        "\n",
        "        if normalize:\n",
        "            image = normalize_image(image)\n",
        "\n",
        "        ax = fig.add_subplot(2, n_images, n_images+i+1)\n",
        "        ax.imshow(image)\n",
        "        ax.set_title('Filtered')\n",
        "        ax.axis('off')"
      ]
    },
    {
      "cell_type": "markdown",
      "metadata": {
        "id": "X5mBc7Zy-0yS"
      },
      "source": [
        "The filters are still 2-dimensional but they are expanded to a depth of three dimensions inside the `plot_filter` function.\n",
        "\n",
        "Below is a filter which detects horizontal lines."
      ]
    },
    {
      "cell_type": "markdown",
      "metadata": {
        "id": "CYT28zhp-0yW"
      },
      "source": [
        "Here's a filter that detects vertical lines."
      ]
    },
    {
      "cell_type": "markdown",
      "metadata": {
        "id": "B6SjLzwv-0yY"
      },
      "source": [
        "We'll also do the same for subsampling/pooling."
      ]
    },
    {
      "cell_type": "code",
      "execution_count": null,
      "metadata": {
        "id": "o3rhhD0HIaff"
      },
      "outputs": [],
      "source": [
        "BATCH_SIZE = 256\n",
        "\n",
        "train_iterator = data.DataLoader(train_data,\n",
        "                                 shuffle=True,\n",
        "                                 batch_size=BATCH_SIZE)\n",
        "\n",
        "valid_iterator = data.DataLoader(valid_data,\n",
        "                                 batch_size=BATCH_SIZE)\n",
        "\n",
        "test_iterator = data.DataLoader(test_data,\n",
        "                                batch_size=BATCH_SIZE)"
      ]
    },
    {
      "cell_type": "markdown",
      "metadata": {
        "id": "98q8mpRN-0yp"
      },
      "source": [
        "### Defining the Model\n",
        "\n",
        "Next up is defining the model.\n",
        "\n",
        "The actual model itself is no more difficult to understand than the previous model, LeNet. It is made up of convolutional layers, pooling layers and ReLU activation functions. See the previous notebook for a refresher on these concepts.\n",
        "\n",
        "There are only two new concepts introduced here, `nn.Sequential` and `nn.Dropout`.\n",
        "\n",
        "We can think of `Sequential` as like our transforms introduced earlier for data augmentation. We provide `Sequential` with multiple layers and when the `Sequential` module is called it will apply each layer, in order, to the input. There is no difference between using a `Sequential` and having each module defined in the `__init__` and then called in `forward` - however it makes the code significantly shorter.\n",
        "\n",
        "We have one `Sequential` model, `features`, for all the convolutional and pooling layers, then we flatten then data and pass it to the `classifier`, another `Sequential` model which is made up of linear layers and the second new concept, *dropout*.\n",
        "\n",
        "Dropout is a form of [*regularization*](https://en.wikipedia.org/wiki/Regularization_(mathematics)). As our models get larger, to perform more accurately on richer datasets, they start having a significantly higher number of parameters. The problem with lots of parameters is that our models begin to *overfit*. That is, they do not learn general image features whilst learning to classify images but instead simply memorize images within the training set. This is bad as it will cause our model to achieve poor performance on the validation/testing set. To solve this overfitting problem, we use regularization. Dropout is just one method of regularization, other common ones are *L1 regularization*, *L2 regularization* and *weight decay*.\n",
        "\n",
        "Dropout works by randomly setting a certain fraction, 0.5 here, of the neurons in a layer to zero. This effectively adds noise to the training of the neural network and causes neurons to learn with \"less\" data as they are only getting half of the information from a previous layer with dropout applied. It can also be thought of as causing your model to learn multiple smaller models with less parameters.\n",
        "\n",
        "Dropout is only applied when the model is training. It needs to be \"turned off\" when validating, testing or using the model for inference.\n",
        "\n",
        "As mentioned in the previous notebook, during the convolutional and pooling layers the activation function should be placed **after** the pooling layer to reduce computational cost.\n",
        "\n",
        "In the linear layers, dropout should be applied **after** the activation function. Although when using ReLU activation functions the same result is achieved if dropout is before or after, see [here](https://sebastianraschka.com/faq/docs/dropout-activation.html).\n",
        "\n",
        "One last thing to mention is that the very first convolutional layer has an `in_channel` of three. That is because we are handling color images that have three channels (red, green and blue) instead of the single channel grayscale images from the MNIST dataset. This doesn't change the way any of the convolutional filter works, it just means the first filter has a depth of three instead of a depth of one."
      ]
    },
    {
      "cell_type": "code",
      "execution_count": null,
      "metadata": {
        "id": "sQq-LE22Iafk"
      },
      "outputs": [],
      "source": [
        "class AlexNet(nn.Module):\n",
        "    def __init__(self, output_dim):\n",
        "        super().__init__()\n",
        "\n",
        "        self.features = nn.Sequential(\n",
        "            nn.Conv2d(3, 64, 3, 2, 1),  # in_channels, out_channels, kernel_size, stride, padding\n",
        "            nn.MaxPool2d(2),  # kernel_size\n",
        "            nn.ReLU(inplace=True),\n",
        "            nn.Conv2d(64, 192, 3, padding=1),\n",
        "            nn.MaxPool2d(2),\n",
        "            nn.ReLU(inplace=True),\n",
        "            nn.Conv2d(192, 384, 3, padding=1),\n",
        "            nn.ReLU(inplace=True),\n",
        "            nn.Conv2d(384, 256, 3, padding=1),\n",
        "            nn.ReLU(inplace=True),\n",
        "            nn.Conv2d(256, 256, 3, padding=1),\n",
        "            nn.MaxPool2d(2),\n",
        "            nn.ReLU(inplace=True)\n",
        "        )\n",
        "\n",
        "        self.classifier = nn.Sequential(\n",
        "            nn.Dropout(0.5),\n",
        "            nn.Linear(256 * 2 * 2, 4096),\n",
        "            nn.ReLU(inplace=True),\n",
        "            nn.Dropout(0.5),\n",
        "            nn.Linear(4096, 4096),\n",
        "            nn.ReLU(inplace=True),\n",
        "            nn.Linear(4096, output_dim),\n",
        "        )\n",
        "\n",
        "    def forward(self, x):\n",
        "        # Normal forward pass\n",
        "        x = self.features(x)\n",
        "        h = x.view(x.shape[0], -1)\n",
        "        x = self.classifier(h)\n",
        "\n",
        "        return x, h"
      ]
    },
    {
      "cell_type": "markdown",
      "metadata": {
        "id": "IBMS4TH4XVow"
      },
      "source": [
        "We'll create an instance of our model with the desired amount of classes."
      ]
    },
    {
      "cell_type": "code",
      "execution_count": null,
      "metadata": {
        "id": "y-sDcYnBIafp"
      },
      "outputs": [],
      "source": [
        "OUTPUT_DIM = 10\n",
        "\n",
        "model = AlexNet(OUTPUT_DIM)"
      ]
    },
    {
      "cell_type": "markdown",
      "metadata": {
        "id": "O9Dkc_uBXVoy"
      },
      "source": [
        "Then we'll see how many trainable parameters our model has.\n",
        "\n",
        "Our LeNet architecture had ~44k, but here we have 23.2M parameters - and AlexNet is a relatively small model for computer vision."
      ]
    },
    {
      "cell_type": "code",
      "execution_count": null,
      "metadata": {
        "colab": {
          "base_uri": "https://localhost:8080/"
        },
        "id": "3g-pV7t2Iafs",
        "outputId": "51b0ad5d-4432-4cb6-885b-32021ed1be12"
      },
      "outputs": [
        {
          "output_type": "stream",
          "name": "stdout",
          "text": [
            "The model has 23,272,266 trainable parameters\n"
          ]
        }
      ],
      "source": [
        "def count_parameters(model):\n",
        "    return sum(p.numel() for p in model.parameters() if p.requires_grad)\n",
        "\n",
        "\n",
        "print(f'The model has {count_parameters(model):,} trainable parameters')"
      ]
    },
    {
      "cell_type": "markdown",
      "metadata": {
        "id": "n99m5MPZXVo1"
      },
      "source": [
        "### Training the Model\n",
        "\n",
        "Next up, we'll initialize the parameters of our model.\n",
        "\n",
        "PyTorch's default initialization is usually fine however by manually trying different initialization schemes we can usually squeeze out a slight performance improvement.\n",
        "\n",
        "We initialize parameters in PyTorch by creating a function that takes in a PyTorch module, checking what type of module it is, and then using the `nn.init` methods to actually initialize the parameters.\n",
        "\n",
        "For our convolutional layers, we'll initialize the weights from a Normal distribution with a standard deviation given by:\n",
        "\n",
        "$$\\frac{\\text{gain}}{\\sqrt{\\text{fan mode}}}$$\n",
        "\n",
        "The value of $\\text{gain}$ depends on the non-linearity we will be using after the convolutional layer and we simply tell the initialization function that we are using ReLU which sets the gain to $\\sqrt{2}$. The fan mode can be either `fan_in` or `fan_out`. `fan_in` is the number of connections coming into the layer and `fan_out` is the number of connections going out of the layer. For the first convolutional layer the input is from 3x3x3 filter, so the `fan_in` is 27 and the output is 64x3x3,  so the `fan_out` is 576. We leave it to the default `fan_in` mode. This initialization scheme is called *Kaiming Normal*, also known as *He Normal*. See the [paper](https://arxiv.org/abs/1502.01852) to learn more about how it was devised.\n",
        "\n",
        "For the linear layers we initialize with a Normal distribution but this time the standard deviation is given by:\n",
        "\n",
        "$$\\text{gain} \\times \\sqrt{\\frac{2}{\\text{fan_in} + \\text{fan_out}}}$$\n",
        "\n",
        "Confusingly, instead of just telling the initialization function which non-linearity we want to use and have it calculate the gain for us, we have to tell it what gain we want to use. Luckily, `nn.init` has a `calculate_gain` function which does that for us, and we just tell it we are using ReLUs. This type of initialize scheme is called *Xavier Normal*, also known as *Glorot Normal*. See the [paper](http://proceedings.mlr.press/v9/glorot10a/glorot10a.pdf) for the theory behind it.\n",
        "\n",
        "For both types of layer we initialize the bias terms to zeros.\n",
        "\n",
        "Why do we even need to initialize our parameters this way? See [this](https://towardsdatascience.com/weight-initialization-in-neural-networks-a-journey-from-the-basics-to-kaiming-954fb9b47c79) article for a great explanation, but the gist of it is that just like how we normalized our input data to have a mean of 0 and a standard deviation of 1, we also want the outputs of each activation function (and therefore the inputs to the subsequent layer) to also have a mean of 0 and a standard deviation of 1. These initialization schemes, by taking account the number of connections in to and out of a layer as well as the non-linearity used, help achieve this normalization effect when initializing weights."
      ]
    },
    {
      "cell_type": "code",
      "execution_count": null,
      "metadata": {
        "id": "I4NbFid9Iafw"
      },
      "outputs": [],
      "source": [
        "def initialize_parameters(m):\n",
        "    if isinstance(m, nn.Conv2d):\n",
        "        nn.init.kaiming_normal_(m.weight.data, nonlinearity='relu')\n",
        "        nn.init.constant_(m.bias.data, 0)\n",
        "    elif isinstance(m, nn.Linear):\n",
        "        nn.init.xavier_normal_(m.weight.data, gain=nn.init.calculate_gain('relu'))\n",
        "        nn.init.constant_(m.bias.data, 0)"
      ]
    },
    {
      "cell_type": "markdown",
      "metadata": {
        "id": "8SkSdnytXVo3"
      },
      "source": [
        "We apply the initialization by using the model's `apply` method. This will call the given function on every module and sub-module within the model."
      ]
    },
    {
      "cell_type": "code",
      "execution_count": null,
      "metadata": {
        "colab": {
          "base_uri": "https://localhost:8080/"
        },
        "id": "Bve8IsHsIafz",
        "outputId": "86405491-10d9-4182-e4cc-6152208902a6"
      },
      "outputs": [
        {
          "output_type": "execute_result",
          "data": {
            "text/plain": [
              "AlexNet(\n",
              "  (features): Sequential(\n",
              "    (0): Conv2d(3, 64, kernel_size=(3, 3), stride=(2, 2), padding=(1, 1))\n",
              "    (1): MaxPool2d(kernel_size=2, stride=2, padding=0, dilation=1, ceil_mode=False)\n",
              "    (2): ReLU(inplace=True)\n",
              "    (3): Conv2d(64, 192, kernel_size=(3, 3), stride=(1, 1), padding=(1, 1))\n",
              "    (4): MaxPool2d(kernel_size=2, stride=2, padding=0, dilation=1, ceil_mode=False)\n",
              "    (5): ReLU(inplace=True)\n",
              "    (6): Conv2d(192, 384, kernel_size=(3, 3), stride=(1, 1), padding=(1, 1))\n",
              "    (7): ReLU(inplace=True)\n",
              "    (8): Conv2d(384, 256, kernel_size=(3, 3), stride=(1, 1), padding=(1, 1))\n",
              "    (9): ReLU(inplace=True)\n",
              "    (10): Conv2d(256, 256, kernel_size=(3, 3), stride=(1, 1), padding=(1, 1))\n",
              "    (11): MaxPool2d(kernel_size=2, stride=2, padding=0, dilation=1, ceil_mode=False)\n",
              "    (12): ReLU(inplace=True)\n",
              "  )\n",
              "  (classifier): Sequential(\n",
              "    (0): Dropout(p=0.5, inplace=False)\n",
              "    (1): Linear(in_features=1024, out_features=4096, bias=True)\n",
              "    (2): ReLU(inplace=True)\n",
              "    (3): Dropout(p=0.5, inplace=False)\n",
              "    (4): Linear(in_features=4096, out_features=4096, bias=True)\n",
              "    (5): ReLU(inplace=True)\n",
              "    (6): Linear(in_features=4096, out_features=10, bias=True)\n",
              "  )\n",
              ")"
            ]
          },
          "metadata": {},
          "execution_count": 18
        }
      ],
      "source": [
        "model.apply(initialize_parameters)"
      ]
    },
    {
      "cell_type": "markdown",
      "metadata": {
        "id": "o-5vb3-dXVo8"
      },
      "source": [
        "To prepare to use the range finder we define an initial, very low starting learning rate and then create an instance of the optimizer we want to use with that learning rate.\n",
        "\n",
        "We then define the loss function we want to use, the device we'll use and place our model and criterion on to our device."
      ]
    },
    {
      "cell_type": "code",
      "execution_count": null,
      "metadata": {
        "id": "5583ybdqIaf4"
      },
      "outputs": [],
      "source": [
        "START_LR = 1e-7\n",
        "\n",
        "optimizer = optim.Adam(model.parameters(), lr=START_LR)\n",
        "\n",
        "device = torch.device('cuda' if torch.cuda.is_available() else 'cpu')\n",
        "\n",
        "criterion = nn.CrossEntropyLoss()\n",
        "\n",
        "model = model.to(device)\n",
        "criterion = criterion.to(device)"
      ]
    },
    {
      "cell_type": "code",
      "execution_count": null,
      "metadata": {
        "id": "P6hTusQNIagD"
      },
      "outputs": [],
      "source": [
        "FOUND_LR = 1e-3\n",
        "\n",
        "optimizer = optim.Adam(model.parameters(), lr=FOUND_LR)"
      ]
    },
    {
      "cell_type": "markdown",
      "metadata": {
        "id": "9HoBM4KEXVpS"
      },
      "source": [
        "The rest of the notebook is pretty similar to the previous notebooks from these tutorials.\n",
        "\n",
        "We define a function to calculate accuracy..."
      ]
    },
    {
      "cell_type": "code",
      "execution_count": null,
      "metadata": {
        "id": "TJj9fQ5WIagI"
      },
      "outputs": [],
      "source": [
        "def calculate_accuracy(y_pred, y):\n",
        "    top_pred = y_pred.argmax(1, keepdim=True)\n",
        "    correct = top_pred.eq(y.view_as(top_pred)).sum()\n",
        "    acc = correct.float() / y.shape[0]\n",
        "    return acc, top_pred"
      ]
    },
    {
      "cell_type": "markdown",
      "metadata": {
        "id": "WGjesEGDXVpV"
      },
      "source": [
        "...and a function to implement our training loop.\n",
        "\n",
        "As we are using dropout we need to make sure to \"turn it on\" when training by using `model.train()`."
      ]
    },
    {
      "cell_type": "markdown",
      "metadata": {
        "id": "9k7bAXAboFHt"
      },
      "source": [
        "# Creating a Cache of trained images\n"
      ]
    },
    {
      "cell_type": "code",
      "execution_count": null,
      "metadata": {
        "id": "bmbBo2O5uA3A"
      },
      "outputs": [],
      "source": [
        "import torch\n",
        "from collections import defaultdict\n",
        "\n",
        "class MeanStdSimilarityCache():\n",
        "    def __init__(self, k=10):\n",
        "        self.cache = {}  # To store image data: (mean, std, label)\n",
        "        self.valueToNum = defaultdict(int)  # Track count of each label\n",
        "        self.valueToKey = {}  # Track keys for each label\n",
        "        self.k = k\n",
        "\n",
        "    def add(self, key, mean, std, label, logits):\n",
        "      value = (mean, std, label, logits)\n",
        "\n",
        "      if label in self.valueToNum and self.valueToNum[label] >= self.k:\n",
        "          # gets all the keys from the self.valueToKey dict\n",
        "          keysToChoose = self.valueToKey[label]\n",
        "\n",
        "          # chooses a random key\n",
        "          randKey = keysToChoose[random.randrange(len(keysToChoose))]\n",
        "\n",
        "          # deletes that key,value pair from the cache\n",
        "          del self.cache[randKey]\n",
        "          del self.valueToKey[label]\n",
        "          self.valueToNum[label] = self.valueToNum.get(label, 0) - 1\n",
        "\n",
        "      self.cache[key] = value\n",
        "\n",
        "      if label not in self.valueToKey:\n",
        "          self.valueToKey[label] = []\n",
        "      self.valueToKey[label].append(key)\n",
        "      self.valueToNum[label] = self.valueToNum.get(label, 0) + 1\n",
        "\n",
        "    def get(self, key):\n",
        "        return self.cache[key]\n",
        "\n",
        "    def get_keys(self):\n",
        "        return self.cache.keys()\n",
        "\n",
        "    def get_all_as_tensors(self):\n",
        "        # Extract means, stds, and labels as separate lists\n",
        "        means, stds, labels, logits = zip(*self.cache.values())\n",
        "\n",
        "        # Convert lists to tensors\n",
        "        means_tensor = torch.tensor(means)\n",
        "        stds_tensor = torch.tensor(stds)\n",
        "        # labels_tensor = torch.tensor(labels)\n",
        "        # logits_tensor = torch.tensor(logits)\n",
        "        logits_tensor = torch.stack(logits)\n",
        "\n",
        "\n",
        "        return means_tensor, stds_tensor, logits_tensor\n",
        "\n",
        "    # TODO make sure images are tensor\n",
        "    def get_all_images_and_labels(self):\n",
        "        # Extract images and labels as separate lists\n",
        "        means, stds, labels, logits = zip(*self.cache.values())\n",
        "\n",
        "        # Convert lists to tensors\n",
        "        images_list = [torch.tensor(key_tuple) for key_tuple in self.cache.keys()]\n",
        "        images_tensor = torch.stack(images_list)\n",
        "        logits_tensor = torch.stack(logits)\n",
        "\n",
        "\n",
        "        return images_tensor, logits_tensor"
      ]
    },
    {
      "cell_type": "code",
      "execution_count": null,
      "metadata": {
        "id": "DY9TJXyMUyeV"
      },
      "outputs": [],
      "source": [
        "def train(model, iterator, optimizer, criterion, device, epoch, numEpochs):\n",
        "\n",
        "    cache = MeanStdSimilarityCache()\n",
        "\n",
        "    epoch_loss = 0\n",
        "    epoch_acc = 0\n",
        "\n",
        "    model.train()\n",
        "\n",
        "    for (x, y) in tqdm(iterator, desc=\"Training\", leave=False):\n",
        "        yCopy = y.numpy()\n",
        "        x = x.to(device)\n",
        "        y = y.to(device)\n",
        "\n",
        "        optimizer.zero_grad()\n",
        "\n",
        "        y_pred, _ = model(x)\n",
        "\n",
        "        loss = criterion(y_pred, y)\n",
        "\n",
        "        acc, top_pred = calculate_accuracy(y_pred, y)\n",
        "\n",
        "        if epoch == numEpochs - 1:\n",
        "          x_mean = x.mean(dim=[1, 2, 3]).to(device)  # Mean over channels, height and width\n",
        "          x_std = x.std(dim=[1, 2, 3]).to(device)   # Std over channels, height and width\n",
        "\n",
        "          # getting the actual labels of the batch\n",
        "          curBatchLabels = np.array(classes)[yCopy]\n",
        "          # getting the predicted labels of the batch\n",
        "          curBatchPredLabels = np.array(classes)[top_pred.cpu().detach().numpy().reshape(-1)]\n",
        "\n",
        "          for i in range(len(curBatchLabels)):\n",
        "              if curBatchLabels[i] == curBatchPredLabels[i]:\n",
        "                img_tuple = tuple(x[i].flatten().tolist())  # Key for cache\n",
        "                label = curBatchLabels[i]  # Actual label\n",
        "                logits = y_pred[i] # Logits for model prediction\n",
        "                mean = x_mean[i]  # Mean of image\n",
        "                std = x_std[i]  # Std of image\n",
        "                cache.add(img_tuple, mean, std, label, logits)\n",
        "\n",
        "        loss.backward()\n",
        "\n",
        "        optimizer.step()\n",
        "\n",
        "        epoch_loss += loss.item()\n",
        "        epoch_acc += acc.item()\n",
        "\n",
        "    return epoch_loss / len(iterator), epoch_acc / len(iterator), cache"
      ]
    },
    {
      "cell_type": "markdown",
      "metadata": {
        "id": "U0usLljsXVpY"
      },
      "source": [
        "We also define an evaluation loop, making sure to \"turn off\" dropout with `model.eval()`."
      ]
    },
    {
      "cell_type": "code",
      "execution_count": null,
      "metadata": {
        "id": "gnUhGD9MIagM"
      },
      "outputs": [],
      "source": [
        "# if evaluating MSS cache, run this evaluate method\n",
        "def evaluate(model, iterator, criterion, device, threshold = 0.001, cache_for_evaluation=None):\n",
        "    numHits = 0\n",
        "    numTotal = 0\n",
        "    epoch_loss = 0\n",
        "    epoch_acc = 0\n",
        "\n",
        "    model.eval()\n",
        "\n",
        "    with torch.no_grad():\n",
        "        for (x, y) in tqdm(iterator, desc=\"Evaluating\", leave=False):\n",
        "          x = x.to(device)\n",
        "          y = y.to(device)\n",
        "\n",
        "          if cache_for_evaluation:\n",
        "            # Compute means for the batch\n",
        "            x_mean = x.mean(dim=[1, 2, 3]).to(device)\n",
        "\n",
        "            # Retrieve means and stds from cache as tensors\n",
        "            cached_means, cached_stds, cached_logits = cache.get_all_as_tensors()\n",
        "            cached_means = cached_means.to(device)\n",
        "            cached_stds = cached_stds.to(device)\n",
        "\n",
        "            # Find matches using tensor operations\n",
        "            diff = (x_mean.unsqueeze(1) - cached_means).abs()\n",
        "            within_std = diff < (threshold * cached_stds)\n",
        "            cache_hits = within_std.any(dim=1)\n",
        "\n",
        "            y_pred = torch.full((x.size(0), 10), -1.0, device=device)\n",
        "\n",
        "            # For images found in cache\n",
        "            numHits += sum(cache_hits)\n",
        "            numTotal += x.shape[0]\n",
        "            if cache_hits.any():\n",
        "                indices = cache_hits.nonzero(as_tuple=True)[0]\n",
        "                logits_indices = within_std[indices].max(dim=1).indices\n",
        "                for i, idx in enumerate(indices):\n",
        "                    y_pred[idx] = cached_logits[logits_indices[i]]\n",
        "\n",
        "            # For images not in cache\n",
        "            non_cached_indices = (y_pred == -1).nonzero(as_tuple=True)[0]\n",
        "            if non_cached_indices.size(0) > 0:\n",
        "                y_pred_non_cached, _ = model(x[non_cached_indices])\n",
        "                y_pred[non_cached_indices] = y_pred_non_cached\n",
        "\n",
        "\n",
        "          else:\n",
        "            y_pred, _ = model(x)\n",
        "            #print(y_pred.shape)\n",
        "            #print((y_pred[0]).shape)\n",
        "\n",
        "          loss = criterion(y_pred, y)\n",
        "          acc, _ = calculate_accuracy(y_pred, y)\n",
        "          epoch_loss += loss.item()\n",
        "          epoch_acc += acc.item()\n",
        "    if cache_for_evaluation is not None:\n",
        "        print(f'Hit rate is {numHits/numTotal * 100} percent')\n",
        "    return epoch_loss / len(iterator), epoch_acc / len(iterator), numHits/numTotal * 100 if cache_for_evaluation is not None else 0"
      ]
    },
    {
      "cell_type": "code",
      "execution_count": null,
      "metadata": {
        "id": "LxzbFKT8LVOU"
      },
      "outputs": [],
      "source": [
        "# If using SSIM cache, run this evaluate method\n",
        "from torch import nn\n",
        "from pytorch_msssim import SSIM\n",
        "from tqdm.notebook import tqdm\n",
        "\n",
        "def batch_ssim(x, cached_images, device):\n",
        "    # Preallocate tensor for SSIM values\n",
        "    ssim_values = torch.empty(x.size(0), cached_images.size(0), device=device, dtype=torch.float32)\n",
        "    # Unnormalize images for SSIM, see here: https://github.com/VainF/pytorch-msssim#2-normalized-input\n",
        "    x = (x + 1) / 2\n",
        "    cached_images = (cached_images + 1) / 2\n",
        "\n",
        "    # Compute SSIM in batches\n",
        "    for i, image in enumerate(x):\n",
        "        # Repeat the image to match the number of cached images\n",
        "        repeated_image = image.repeat(cached_images.size(0), 1, 1, 1)\n",
        "\n",
        "        # Compute SSIM for the batch\n",
        "        # reuse the gaussian kernel due to channels, see here: https://github.com/VainF/pytorch-msssim\n",
        "        ssim_module = SSIM(data_range=1, channel=3)\n",
        "        ssim_values[i] = ssim_module(repeated_image, cached_images)\n",
        "\n",
        "    return ssim_values\n",
        "\n",
        "def evaluate(model, iterator, criterion, device, threshold = 0.002, cache_for_evaluation=None):\n",
        "    epoch_loss = 0\n",
        "    epoch_acc = 0\n",
        "    numHits = 0\n",
        "    numTotal = 0\n",
        "\n",
        "    model.eval()\n",
        "\n",
        "    with torch.no_grad():\n",
        "        for (x, y) in tqdm(iterator, desc=\"Evaluating\", leave=False):\n",
        "            x = x.to(device)\n",
        "            y = y.to(device)\n",
        "\n",
        "            if cache_for_evaluation:\n",
        "                # Retrieve cached images and their labels = logits\n",
        "                cached_images, cached_logits = cache.get_all_images_and_labels()\n",
        "                cached_images_reshaped = cached_images.view(-1, 3, 32, 32).to(device)\n",
        "\n",
        "                # Compute SSIM for the entire batch\n",
        "                ssim_scores = batch_ssim(x, cached_images_reshaped, device)\n",
        "\n",
        "                # Find the indices of the maximum SSIM scores for each image\n",
        "                max_ssim_indices = ssim_scores.argmax(dim=1)\n",
        "                max_ssim_values = ssim_scores.max(dim=1).values\n",
        "\n",
        "                # Apply SSIM threshold\n",
        "                ssim_threshold_mask = max_ssim_values >= threshold # SSIM is highly sensitive, so threshold is low\n",
        "\n",
        "                # Initialize predictions tensor with default values\n",
        "                y_pred = torch.full((x.size(0),10), -1.0, device=device)  # Initialize with invalid class index\n",
        "\n",
        "\n",
        "                # Use cached logits where SSIM is above threshold\n",
        "                valid_indices = ssim_threshold_mask.nonzero(as_tuple=True)[0]\n",
        "                if valid_indices.size(0) > 0:\n",
        "                    y_pred[valid_indices] = cached_logits[max_ssim_indices[valid_indices]]\n",
        "                numHits += valid_indices.size(0)\n",
        "                numTotal += x.shape[0]\n",
        "\n",
        "                # For images not in cache\n",
        "                non_cached_indices = (~ssim_threshold_mask).nonzero(as_tuple=True)[0]\n",
        "                if non_cached_indices.size(0) > 0:\n",
        "                    y_pred_non_cached, _ = model(x[non_cached_indices])\n",
        "                    y_pred[non_cached_indices] = y_pred_non_cached\n",
        "\n",
        "            else:\n",
        "                y_pred, _ = model(x)\n",
        "\n",
        "            loss = criterion(y_pred, y)\n",
        "            acc, _ = calculate_accuracy(y_pred, y)\n",
        "            epoch_loss += loss.item()\n",
        "            epoch_acc += acc.item()\n",
        "\n",
        "    return epoch_loss / len(iterator), epoch_acc / len(iterator), numHits/numTotal * 100 if cache_for_evaluation is not None else 0\n"
      ]
    },
    {
      "cell_type": "markdown",
      "metadata": {
        "id": "MkkzHBcoXVpa"
      },
      "source": [
        "Next, we define a function to tell us how long an epoch takes."
      ]
    },
    {
      "cell_type": "code",
      "execution_count": null,
      "metadata": {
        "id": "RX-Mwze-IagO"
      },
      "outputs": [],
      "source": [
        "def epoch_time(start_time, end_time):\n",
        "    elapsed_time = end_time - start_time\n",
        "    elapsed_mins = int(elapsed_time / 60)\n",
        "    elapsed_secs = int(elapsed_time - (elapsed_mins * 60))\n",
        "    return elapsed_mins, elapsed_secs"
      ]
    },
    {
      "cell_type": "markdown",
      "metadata": {
        "id": "53srBoLAXVpe"
      },
      "source": [
        "Then, finally, we train our model.\n",
        "\n",
        "We get a best validation loss of ~76% accuracy."
      ]
    },
    {
      "cell_type": "code",
      "execution_count": null,
      "metadata": {
        "id": "UKUAJNYkNWcx"
      },
      "outputs": [],
      "source": [
        "# reset model as needed\n",
        "\n",
        "OUTPUT_DIM = 10\n",
        "\n",
        "model = AlexNet(OUTPUT_DIM)\n",
        "\n",
        "model.apply(initialize_parameters)\n",
        "\n",
        "START_LR = 1e-7\n",
        "\n",
        "optimizer = optim.Adam(model.parameters(), lr=START_LR)\n",
        "\n",
        "device = torch.device('cuda' if torch.cuda.is_available() else 'cpu')\n",
        "\n",
        "criterion = nn.CrossEntropyLoss()\n",
        "\n",
        "model = model.to(device)\n",
        "criterion = criterion.to(device)\n",
        "\n",
        "FOUND_LR = 1e-3\n",
        "\n",
        "optimizer = optim.Adam(model.parameters(), lr=FOUND_LR)"
      ]
    },
    {
      "cell_type": "code",
      "execution_count": null,
      "metadata": {
        "id": "mN02GOocIagR"
      },
      "outputs": [],
      "source": [
        "EPOCHS = 25\n",
        "\n",
        "best_valid_loss = float('inf')\n",
        "\n",
        "for epoch in trange(EPOCHS, desc=\"Epochs\"):\n",
        "    start_time = time.monotonic()\n",
        "\n",
        "\n",
        "    train_loss, train_acc, cache = train(model, train_iterator, optimizer, criterion, device, epoch, EPOCHS)\n",
        "    valid_loss, valid_acc, hitrate = evaluate(model, valid_iterator, criterion, device)\n",
        "\n",
        "    if valid_loss < best_valid_loss:\n",
        "        best_valid_loss = valid_loss\n",
        "        torch.save(model.state_dict(), 'tut3-model.pt')\n",
        "\n",
        "    end_time = time.monotonic()\n",
        "\n",
        "    epoch_mins, epoch_secs = epoch_time(start_time, end_time)\n",
        "\n",
        "    print(f'Epoch: {epoch+1:02} | Epoch Time: {epoch_mins}m {epoch_secs}s')\n",
        "    print(f'\\tTrain Loss: {train_loss:.3f} | Train Acc: {train_acc*100:.2f}%')\n",
        "    print(f'\\t Val. Loss: {valid_loss:.3f} |  Val. Acc: {valid_acc*100:.2f}%')\n",
        "    #print(f'\\t Cache: {cache.get_keys()}')\n",
        "    print(f'\\t Cache Length: {len(cache.get_keys())}')"
      ]
    },
    {
      "cell_type": "markdown",
      "metadata": {
        "id": "A7h-D2bEXVph"
      },
      "source": [
        "We then load the parameters of our model that achieved the best validation loss and evaluate this model on the test set to achieve a ~75% accuracy."
      ]
    },
    {
      "cell_type": "markdown",
      "source": [
        "In order to run K Experiments, one has to retrain the model on different values of k by editing the self.k parameter in the cache class and then run the following two code cells for MSS and SSIM respectively"
      ],
      "metadata": {
        "id": "drAgAdYgYGfG"
      }
    },
    {
      "cell_type": "code",
      "source": [
        "# if evaluating MSS cache, run this cell\n",
        "model.load_state_dict(torch.load('tut3-model.pt'))\n",
        "\n",
        "start_time = time.monotonic()\n",
        "test_loss, test_acc, hitRate = evaluate(model, test_iterator, criterion, device, cache_for_evaluation=cache)\n",
        "end_time = time.monotonic()\n",
        "epoch_mins, epoch_secs = epoch_time(start_time, end_time)\n",
        "\n",
        "\n",
        "print(f'{epoch_mins} Minutes {epoch_secs} Seconds')\n",
        "print(f'Test Loss: {test_loss:.3f} | Test Acc: {test_acc*100:.2f}%')\n",
        "print(f'HitRate: {hitRate}')"
      ],
      "metadata": {
        "id": "K-BPKHFaXid5"
      },
      "execution_count": null,
      "outputs": []
    },
    {
      "cell_type": "code",
      "execution_count": null,
      "metadata": {
        "id": "S4Z3pxPwIagX",
        "scrolled": true
      },
      "outputs": [],
      "source": [
        "# if evaluating SSIM cache, run this cell\n",
        "model.load_state_dict(torch.load('tut3-model.pt'))\n",
        "\n",
        "start_time = time.monotonic()\n",
        "test_loss, test_acc, hits = evaluate(model, test_iterator, criterion, device, threshold=0.02, cache_for_evaluation=cache)\n",
        "end_time = time.monotonic()\n",
        "epoch_mins, epoch_secs = epoch_time(start_time, end_time)\n",
        "\n",
        "\n",
        "print(f'{epoch_mins} Minutes {epoch_secs} Seconds')\n",
        "print(f'Test Loss: {test_loss:.3f} | Test Acc: {test_acc*100:.2f}%')\n",
        "print(f'hits: {hits:.3f}%')"
      ]
    },
    {
      "cell_type": "markdown",
      "source": [
        "The following two cell blocks are for running the Threshold Experiments on either MSS or SSIM"
      ],
      "metadata": {
        "id": "cyhS9NTCYYGc"
      }
    },
    {
      "cell_type": "code",
      "source": [
        "# if testing MSS cache\n",
        "threshold_vals = []\n",
        "i = 0.0001\n",
        "while i <= 0.01:\n",
        "  threshold_vals.append(i)\n",
        "  i += 0.0001\n",
        "\n",
        "\n",
        "# times in seconds\n",
        "threshold_vals = [0.001]\n",
        "epoch_times = []\n",
        "epoch_testLoss = []\n",
        "epoch_testAcc = []\n",
        "epoch_hitRate = []\n",
        "\n",
        "\n",
        "for threshold in threshold_vals:\n",
        "  model.load_state_dict(torch.load('tut3-model.pt'))\n",
        "\n",
        "\n",
        "  start_time = time.monotonic()\n",
        "  test_loss, test_acc, hitRate = evaluate(model, test_iterator, criterion, device, threshold = threshold,  cache_for_evaluation=cache)\n",
        "  end_time = time.monotonic()\n",
        "\n",
        "\n",
        "  epoch_mins, epoch_secs = epoch_time(start_time, end_time)\n",
        "  epoch_times.append(epoch_mins * 60 + epoch_secs)\n",
        "  epoch_testLoss.append(test_loss)\n",
        "  epoch_testAcc.append(test_acc)\n",
        "  epoch_hitRate.append(hitRate.item())"
      ],
      "metadata": {
        "id": "tNMCRKFGYqVn"
      },
      "execution_count": null,
      "outputs": []
    },
    {
      "cell_type": "code",
      "execution_count": null,
      "metadata": {
        "id": "iwxfqtXzhm6F"
      },
      "outputs": [],
      "source": [
        "# if testing SSIM, run this cell\n",
        "threshold_vals = []\n",
        "\n",
        "i = 0.0001\n",
        "while i <= 0.02:\n",
        "  threshold_vals.append(i)\n",
        "  i += 0.0002\n",
        "threshold_vals = [0.0001]\n",
        "# times in seconds\n",
        "epoch_times = []\n",
        "epoch_testLoss = []\n",
        "epoch_testAcc = []\n",
        "epoch_hitRate = []\n",
        "\n",
        "\n",
        "for threshold in threshold_vals:\n",
        "  model.load_state_dict(torch.load('tut3-model.pt'))\n",
        "\n",
        "\n",
        "  start_time = time.monotonic()\n",
        "  test_loss, test_acc, hitRate = evaluate(model, test_iterator, criterion, device, threshold = threshold,  cache_for_evaluation=cache)\n",
        "  end_time = time.monotonic()\n",
        "\n",
        "\n",
        "  epoch_mins, epoch_secs = epoch_time(start_time, end_time)\n",
        "  epoch_times.append(epoch_mins * 60 + epoch_secs)\n",
        "  epoch_testLoss.append(test_loss)\n",
        "  epoch_testAcc.append(test_acc)\n",
        "  epoch_hitRate.append(hitRate.item())"
      ]
    },
    {
      "cell_type": "code",
      "execution_count": null,
      "metadata": {
        "id": "lPKStSbzhm6G"
      },
      "outputs": [],
      "source": [
        "import matplotlib.pyplot as plt\n",
        "\n",
        "\n",
        "plt.figure(figsize=(8, 5))  # Optional: setting the figure size\n",
        "plt.plot(threshold_vals, epoch_testAcc, marker='o', linestyle='-')\n",
        "plt.title('Test Dataset Accuracies vs Threshold Values')\n",
        "plt.xlabel('Threshold Values')\n",
        "plt.ylabel('Accuracy (%)')\n",
        "plt.axhline(y=0.757, color='red', linestyle='--', label='Baseline Accuracy at 0.757')\n",
        "plt.legend()\n",
        "plt.grid(True)\n",
        "plt.show()\n",
        "\n",
        "\n",
        "plt.figure(figsize=(8, 5))  # Optional: setting the figure size\n",
        "plt.plot(threshold_vals, epoch_testLoss, marker='o', linestyle='-')\n",
        "plt.title('Test Dataset Loss vs Threshold Values')\n",
        "plt.xlabel('Threshold Values')\n",
        "plt.ylabel('Loss')\n",
        "plt.axhline(y=0.700, color='red', linestyle='--', label='Baseline Test Loss at 0.700')\n",
        "plt.legend()\n",
        "plt.grid(True)\n",
        "plt.show()\n",
        "\n",
        "\n",
        "plt.figure(figsize=(8, 5))  # Optional: setting the figure size\n",
        "plt.scatter(threshold_vals, epoch_times, marker='o')  # Scatter plot\n",
        "plt.title('Time to Run One Epoch over Test Dataset vs Threshold Values')\n",
        "plt.xlabel('Threshold Values')\n",
        "plt.ylabel('Time (sec)')\n",
        "plt.grid(True)\n",
        "plt.axhline(y=3, color='red', linestyle='--', label='Baseline Test Time at 3 seconds')\n",
        "plt.legend()\n",
        "plt.show()\n",
        "\n",
        "\n",
        "plt.figure(figsize=(8, 5))  # Optional: setting the figure size\n",
        "plt.plot(threshold_vals, epoch_hitRate, marker='o', linestyle='-')\n",
        "plt.title('Hit Rate vs Threshold Values')\n",
        "plt.xlabel('Threshold Values')\n",
        "plt.ylabel('Percentage')\n",
        "plt.grid(True)\n",
        "plt.show()"
      ]
    },
    {
      "cell_type": "markdown",
      "source": [
        "Plotting Confusion Matrices"
      ],
      "metadata": {
        "id": "afLu2ok9Yief"
      }
    },
    {
      "cell_type": "code",
      "execution_count": null,
      "metadata": {
        "id": "G6DndUWO1j9v"
      },
      "outputs": [],
      "source": [
        "def get_predictions(model, iterator, device):\n",
        "\n",
        "    model.eval()\n",
        "\n",
        "    images = []\n",
        "    labels = []\n",
        "    probs = []\n",
        "\n",
        "    with torch.no_grad():\n",
        "\n",
        "        for (x, y) in iterator:\n",
        "\n",
        "            x = x.to(device)\n",
        "\n",
        "            y_pred, _ = model(x)\n",
        "\n",
        "            y_prob = F.softmax(y_pred, dim=-1)\n",
        "\n",
        "            images.append(x.cpu())\n",
        "            labels.append(y.cpu())\n",
        "            probs.append(y_prob.cpu())\n",
        "\n",
        "    images = torch.cat(images, dim=0)\n",
        "    labels = torch.cat(labels, dim=0)\n",
        "    probs = torch.cat(probs, dim=0)\n",
        "\n",
        "    return images, labels, probs"
      ]
    },
    {
      "cell_type": "code",
      "execution_count": null,
      "metadata": {
        "id": "d56f4YuM1mtn"
      },
      "outputs": [],
      "source": [
        "images, labels, probs = get_predictions(model, test_iterator, device)"
      ]
    },
    {
      "cell_type": "markdown",
      "metadata": {
        "id": "jxdELbG7XVpo"
      },
      "source": [
        "Then, for each prediction we get the predicted class."
      ]
    },
    {
      "cell_type": "code",
      "execution_count": null,
      "metadata": {
        "id": "D4MwRTwk1n89"
      },
      "outputs": [],
      "source": [
        "pred_labels = torch.argmax(probs, 1)"
      ]
    },
    {
      "cell_type": "markdown",
      "metadata": {
        "id": "raQ9FkfyXVpr"
      },
      "source": [
        "Next, we plot the confusion matrix. This time we have edited the function to allow us to pass a list of strings which are the labels classes."
      ]
    },
    {
      "cell_type": "code",
      "execution_count": null,
      "metadata": {
        "id": "LDMamip01p0Z"
      },
      "outputs": [],
      "source": [
        "def plot_confusion_matrix(labels, pred_labels, classes):\n",
        "\n",
        "    fig = plt.figure(figsize=(10, 10))\n",
        "    ax = fig.add_subplot(1, 1, 1)\n",
        "    cm = confusion_matrix(labels, pred_labels)\n",
        "    cm = ConfusionMatrixDisplay(cm, display_labels=classes)\n",
        "    cm.plot(values_format='d', cmap='Blues', ax=ax)\n",
        "    plt.xticks(rotation=20)"
      ]
    },
    {
      "cell_type": "code",
      "execution_count": null,
      "metadata": {
        "id": "bZsIeG2V1wBP"
      },
      "outputs": [],
      "source": [
        "plot_confusion_matrix(labels, pred_labels, classes)"
      ]
    },
    {
      "cell_type": "markdown",
      "source": [
        "### Plotting results for K-experiments\n",
        "\n",
        "Note that we hard-coded the results of the K-value because we had to retrain the model and populate the cache for each experiment. These lists track our observed outputs from running the experiments."
      ],
      "metadata": {
        "id": "n707jbp4kvLf"
      }
    },
    {
      "cell_type": "markdown",
      "source": [
        "**MSS** Cache Data\n",
        "\n",
        "*   Threshold Constant within 0.001 cached standard deviation\n",
        "*   K changed from 1 to 45\n",
        "\n",
        "**SSIM** Cache Data\n",
        "\n",
        "*   Threshold Constant set to 0.02\n",
        "*   K changed from 1 to 45\n",
        "\n",
        "\n",
        "\n"
      ],
      "metadata": {
        "id": "fzaay7RGSie7"
      }
    },
    {
      "cell_type": "code",
      "execution_count": null,
      "metadata": {
        "id": "Qiq_gRmvSSYD"
      },
      "outputs": [],
      "source": [
        "kVals = [1, 5, 10, 15, 20, 25, 30, 35, 40, 45]\n",
        "baselineTime = [3, 3, 4, 3, 4, 5, 7, 6, 5, 6]\n",
        "baselineLoss = [0.707, 0.700, 0.708, 0.696, 0.7, 0.693, 0.724, 0.709, 0.740, 0.702]\n",
        "baselineAcc = [75.91, 76.51, 75.86, 76.67, 75.7, 76.41, 75.2, 75.73, 75.19, 76.11]\n",
        "\n",
        "MSS_cacheHitRate = [1.020, 5.470, 9.75, 15.360, 19.930, 24.130, 28.960, 32.780, 34.890, 37.530]\n",
        "MSS_cacheTime = [5, 7, 5, 5, 9, 7, 7, 5, 5, 9]\n",
        "MSS_cacheLoss = [0.752, 1.233, 1.373, 1.762, 2.389, 2.515, 2.937, 3.479, 3.044, 3.491]\n",
        "MSS_cacheAcc = [75.26, 72.88, 69.48, 66.48, 62.52, 60.53, 57.36, 54.34, 53.71, 52.26]\n",
        "\n",
        "SSIM_cacheHitRate = [21.880, 10.690, 8.170, 9.550, 5.890, 5.920, 5.520, 6.220, 4.980, 5.520]\n",
        "SSIM_cacheTime = [6, 5, 6, 6, 7, 7, 5, 7, 8, 7]\n",
        "SSIM_cacheLoss = [2.828, 1.890, 1.576, 1.422, 1.307, 1.315, 1.269, 1.334, 1.216, 1.264]\n",
        "SSIM_cacheAcc = [61.83, 68.74, 70.24, 69.22, 72.25, 72.08, 72.49, 71.85, 72.86, 72.43]"
      ]
    },
    {
      "cell_type": "code",
      "source": [
        "import matplotlib.pyplot as plt\n",
        "\n",
        "plt.figure(figsize=(8, 5))  # Optional: setting the figure size\n",
        "plt.plot(kVals, baselineTime, marker='o', linestyle='-', label = 'baseline')\n",
        "plt.plot(kVals, MSS_cacheTime, marker = 'o', linestyle = '-', label = 'MSS')\n",
        "plt.plot(kVals, SSIM_cacheTime, marker = 'o', linestyle = '-', label = 'SSIM')\n",
        "plt.title('Time to Run One Epoch over Test Dataset vs K Values')\n",
        "plt.xlabel('K Values')\n",
        "plt.ylabel('Epoch Testing Time (seconds)')\n",
        "#plt.axhline(y=0.757, color='red', linestyle='--', label='Baseline Accuracy at 0.757')\n",
        "plt.legend()\n",
        "plt.grid(True)\n",
        "plt.show()"
      ],
      "metadata": {
        "colab": {
          "base_uri": "https://localhost:8080/",
          "height": 487
        },
        "id": "m0Y3C4b1grLN",
        "outputId": "995729cd-3a10-4b79-b9f0-797d48f51f1f"
      },
      "execution_count": null,
      "outputs": [
        {
          "output_type": "display_data",
          "data": {
            "text/plain": [
              "<Figure size 800x500 with 1 Axes>"
            ],
            "image/png": "[encoded data removed]"
          },
          "metadata": {}
        }
      ]
    },
    {
      "cell_type": "code",
      "source": [
        "plt.figure(figsize=(8, 5))  # Optional: setting the figure size\n",
        "plt.plot(kVals, baselineLoss, marker='o', linestyle='-', label = 'baseline')\n",
        "plt.plot(kVals, MSS_cacheLoss, marker = 'o', linestyle = '-', label = 'MSS')\n",
        "plt.plot(kVals, SSIM_cacheLoss, marker = 'o', linestyle = '-', label = 'SSIM')\n",
        "plt.title('Test Dataset Loss vs K Values')\n",
        "plt.xlabel('K Values')\n",
        "plt.ylabel('Test Loss')\n",
        "#plt.axhline(y=0.757, color='red', linestyle='--', label='Baseline Accuracy at 0.757')\n",
        "plt.legend()\n",
        "plt.grid(True)\n",
        "plt.show()"
      ],
      "metadata": {
        "colab": {
          "base_uri": "https://localhost:8080/",
          "height": 487
        },
        "id": "kXuxvnWShMPT",
        "outputId": "9de95b79-eba7-4eb2-9f01-8784a2535b6f"
      },
      "execution_count": null,
      "outputs": [
        {
          "output_type": "display_data",
          "data": {
            "text/plain": [
              "<Figure size 800x500 with 1 Axes>"
            ],
            "image/png": "[encoded data removed]"
          },
          "metadata": {}
        }
      ]
    },
    {
      "cell_type": "code",
      "source": [
        "plt.figure(figsize=(8, 5))  # Optional: setting the figure size\n",
        "plt.plot(kVals, baselineAcc, marker='o', linestyle='-', label = 'baseline')\n",
        "plt.plot(kVals, MSS_cacheAcc, marker = 'o', linestyle = '-', label = 'MSS')\n",
        "plt.plot(kVals, SSIM_cacheAcc, marker = 'o', linestyle = '-', label = 'SSIM')\n",
        "plt.title('Test Dataset Accuracy vs K Values')\n",
        "plt.xlabel('K Values')\n",
        "plt.ylabel('Test Accuracy')\n",
        "plt.ylim(0, 100)  # Set y-axis limits\n",
        "#plt.axhline(y=0.757, color='red', linestyle='--', label='Baseline Accuracy at 0.757')\n",
        "plt.legend()\n",
        "plt.grid(True)\n",
        "plt.show()"
      ],
      "metadata": {
        "colab": {
          "base_uri": "https://localhost:8080/",
          "height": 487
        },
        "id": "gbWmuNcEhXdj",
        "outputId": "ed4cdf57-1df5-44a5-fa96-d2b1d018f490"
      },
      "execution_count": null,
      "outputs": [
        {
          "output_type": "display_data",
          "data": {
            "text/plain": [
              "<Figure size 800x500 with 1 Axes>"
            ],
            "image/png": "[encoded data removed]"
          },
          "metadata": {}
        }
      ]
    },
    {
      "cell_type": "code",
      "source": [
        "plt.figure(figsize=(8, 5))  # Optional: setting the figure size\n",
        "plt.plot(kVals, MSS_cacheHitRate, marker='o', linestyle='-', label = 'MSS')\n",
        "plt.plot(kVals, SSIM_cacheHitRate, marker='o', linestyle='-', label = 'SSIM')\n",
        "plt.title('Cache Hit Rate vs K Values')\n",
        "plt.xlabel('K Values')\n",
        "plt.ylabel('Test Cache Hit Rate')\n",
        "plt.ylim(0, 100)  # Set y-axis limits\n",
        "#plt.axhline(y=0.757, color='red', linestyle='--', label='Baseline Accuracy at 0.757')\n",
        "plt.legend()\n",
        "plt.grid(True)\n",
        "plt.show()"
      ],
      "metadata": {
        "colab": {
          "base_uri": "https://localhost:8080/",
          "height": 487
        },
        "id": "eP_8oV7jhny_",
        "outputId": "537863aa-75a5-46e5-e6df-06a081234b24"
      },
      "execution_count": null,
      "outputs": [
        {
          "output_type": "display_data",
          "data": {
            "text/plain": [
              "<Figure size 800x500 with 1 Axes>"
            ],
            "image/png": "[encoded data removed]"
          },
          "metadata": {}
        }
      ]
    }
  ],
  "metadata": {
    "accelerator": "GPU",
    "colab": {
      "gpuType": "T4",
      "provenance": []
    },
    "kernelspec": {
      "display_name": "avtav [~/.conda/envs/avtav/]",
      "language": "python",
      "name": "conda_avtav"
    },
    "language_info": {
      "codemirror_mode": {
        "name": "ipython",
        "version": 3
      },
      "file_extension": ".py",
      "mimetype": "text/x-python",
      "name": "python",
      "nbconvert_exporter": "python",
      "pygments_lexer": "ipython3",
      "version": "3.10.13"
    }
  },
  "nbformat": 4,
  "nbformat_minor": 0
}